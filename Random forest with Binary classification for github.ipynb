{
 "cells": [
  {
   "cell_type": "code",
   "execution_count": 1,
   "id": "d36237dd",
   "metadata": {},
   "outputs": [],
   "source": [
    "import pandas as pd\n",
    "import numpy as np\n",
    "from collections import Counter\n",
    "from sklearn.datasets import make_classification\n",
    "\n",
    "\n",
    "from sklearn.metrics import accuracy_score, f1_score\n",
    "from sklearn.metrics import confusion_matrix\n",
    "from sklearn.model_selection import train_test_split\n",
    "from sklearn import metrics\n",
    "from sklearn.metrics import precision_score\n",
    "from sklearn.metrics import recall_score\n",
    "from sklearn.metrics import classification_report\n",
    "from sklearn.ensemble import RandomForestClassifier\n",
    " "
   ]
  },
  {
   "cell_type": "code",
   "execution_count": 2,
   "id": "ddcfd2a5",
   "metadata": {},
   "outputs": [],
   "source": [
    "\n",
    "df = pd.read_csv('UNSW_NB15_training-setbinaryclass.csv')"
   ]
  },
  {
   "cell_type": "code",
   "execution_count": 3,
   "id": "2c140044",
   "metadata": {},
   "outputs": [],
   "source": [
    "df = df.sample(n=80000, replace=True)"
   ]
  },
  {
   "cell_type": "code",
   "execution_count": 6,
   "id": "8ee2916f",
   "metadata": {},
   "outputs": [],
   "source": [
    "df.to_csv(\"D://Model/binary class model/binary-SampleDS.csv\")"
   ]
  },
  {
   "cell_type": "code",
   "execution_count": 4,
   "id": "7aff082a",
   "metadata": {},
   "outputs": [
    {
     "data": {
      "text/plain": [
       "(80000, 45)"
      ]
     },
     "execution_count": 4,
     "metadata": {},
     "output_type": "execute_result"
    }
   ],
   "source": [
    "df.shape"
   ]
  },
  {
   "cell_type": "code",
   "execution_count": 6,
   "id": "06519a3f",
   "metadata": {},
   "outputs": [
    {
     "data": {
      "text/plain": [
       "1    43955\n",
       "0    36045\n",
       "Name: label, dtype: int64"
      ]
     },
     "execution_count": 6,
     "metadata": {},
     "output_type": "execute_result"
    }
   ],
   "source": [
    "df.label.value_counts()"
   ]
  },
  {
   "cell_type": "code",
   "execution_count": 7,
   "id": "6e88175f",
   "metadata": {},
   "outputs": [],
   "source": [
    "df['proto'] = df['proto'].astype('category')\n",
    "df['service'] = df['service'].astype('category')\n",
    "df['state'] = df['state'].astype('category')\n",
    "\n",
    "cat_columns = df.select_dtypes(['category']).columns\n",
    "df[cat_columns] = df[cat_columns].apply(lambda x: x.cat.codes)"
   ]
  },
  {
   "cell_type": "code",
   "execution_count": 8,
   "id": "b75de24c",
   "metadata": {},
   "outputs": [],
   "source": [
    "categorical_feature_mask = df.dtypes==object\n",
    "# filter categorical columns using mask and turn it into a list\n",
    "categorical_cols = df.columns[categorical_feature_mask].tolist()"
   ]
  },
  {
   "cell_type": "code",
   "execution_count": 9,
   "id": "15bc3bca",
   "metadata": {},
   "outputs": [],
   "source": [
    "X = df.iloc[:, :-2]\n",
    "Y=df['label']"
   ]
  },
  {
   "cell_type": "code",
   "execution_count": 10,
   "id": "a8bfd5b8",
   "metadata": {},
   "outputs": [
    {
     "data": {
      "text/html": [
       "<div>\n",
       "<style scoped>\n",
       "    .dataframe tbody tr th:only-of-type {\n",
       "        vertical-align: middle;\n",
       "    }\n",
       "\n",
       "    .dataframe tbody tr th {\n",
       "        vertical-align: top;\n",
       "    }\n",
       "\n",
       "    .dataframe thead th {\n",
       "        text-align: right;\n",
       "    }\n",
       "</style>\n",
       "<table border=\"1\" class=\"dataframe\">\n",
       "  <thead>\n",
       "    <tr style=\"text-align: right;\">\n",
       "      <th></th>\n",
       "      <th>id</th>\n",
       "      <th>dur</th>\n",
       "      <th>proto</th>\n",
       "      <th>service</th>\n",
       "      <th>state</th>\n",
       "      <th>spkts</th>\n",
       "      <th>dpkts</th>\n",
       "      <th>sbytes</th>\n",
       "      <th>dbytes</th>\n",
       "      <th>rate</th>\n",
       "      <th>...</th>\n",
       "      <th>ct_dst_ltm</th>\n",
       "      <th>ct_src_dport_ltm</th>\n",
       "      <th>ct_dst_sport_ltm</th>\n",
       "      <th>ct_dst_src_ltm</th>\n",
       "      <th>is_ftp_login</th>\n",
       "      <th>ct_ftp_cmd</th>\n",
       "      <th>ct_flw_http_mthd</th>\n",
       "      <th>ct_src_ltm</th>\n",
       "      <th>ct_srv_dst</th>\n",
       "      <th>is_sm_ips_ports</th>\n",
       "    </tr>\n",
       "  </thead>\n",
       "  <tbody>\n",
       "    <tr>\n",
       "      <th>54468</th>\n",
       "      <td>54469</td>\n",
       "      <td>0.000007</td>\n",
       "      <td>117</td>\n",
       "      <td>2</td>\n",
       "      <td>3</td>\n",
       "      <td>2</td>\n",
       "      <td>0</td>\n",
       "      <td>114</td>\n",
       "      <td>0</td>\n",
       "      <td>142857.140900</td>\n",
       "      <td>...</td>\n",
       "      <td>4</td>\n",
       "      <td>4</td>\n",
       "      <td>4</td>\n",
       "      <td>4</td>\n",
       "      <td>0</td>\n",
       "      <td>0</td>\n",
       "      <td>0</td>\n",
       "      <td>4</td>\n",
       "      <td>11</td>\n",
       "      <td>0</td>\n",
       "    </tr>\n",
       "    <tr>\n",
       "      <th>68847</th>\n",
       "      <td>68848</td>\n",
       "      <td>0.000002</td>\n",
       "      <td>117</td>\n",
       "      <td>0</td>\n",
       "      <td>3</td>\n",
       "      <td>2</td>\n",
       "      <td>0</td>\n",
       "      <td>104</td>\n",
       "      <td>0</td>\n",
       "      <td>500000.001300</td>\n",
       "      <td>...</td>\n",
       "      <td>1</td>\n",
       "      <td>1</td>\n",
       "      <td>1</td>\n",
       "      <td>2</td>\n",
       "      <td>0</td>\n",
       "      <td>0</td>\n",
       "      <td>0</td>\n",
       "      <td>1</td>\n",
       "      <td>2</td>\n",
       "      <td>0</td>\n",
       "    </tr>\n",
       "    <tr>\n",
       "      <th>74007</th>\n",
       "      <td>74008</td>\n",
       "      <td>0.000000</td>\n",
       "      <td>6</td>\n",
       "      <td>0</td>\n",
       "      <td>3</td>\n",
       "      <td>1</td>\n",
       "      <td>0</td>\n",
       "      <td>46</td>\n",
       "      <td>0</td>\n",
       "      <td>0.000000</td>\n",
       "      <td>...</td>\n",
       "      <td>1</td>\n",
       "      <td>1</td>\n",
       "      <td>1</td>\n",
       "      <td>1</td>\n",
       "      <td>0</td>\n",
       "      <td>0</td>\n",
       "      <td>0</td>\n",
       "      <td>1</td>\n",
       "      <td>1</td>\n",
       "      <td>1</td>\n",
       "    </tr>\n",
       "    <tr>\n",
       "      <th>54749</th>\n",
       "      <td>54750</td>\n",
       "      <td>0.912468</td>\n",
       "      <td>111</td>\n",
       "      <td>5</td>\n",
       "      <td>2</td>\n",
       "      <td>28</td>\n",
       "      <td>136</td>\n",
       "      <td>1966</td>\n",
       "      <td>172106</td>\n",
       "      <td>178.636398</td>\n",
       "      <td>...</td>\n",
       "      <td>5</td>\n",
       "      <td>1</td>\n",
       "      <td>1</td>\n",
       "      <td>1</td>\n",
       "      <td>0</td>\n",
       "      <td>0</td>\n",
       "      <td>1</td>\n",
       "      <td>1</td>\n",
       "      <td>1</td>\n",
       "      <td>0</td>\n",
       "    </tr>\n",
       "    <tr>\n",
       "      <th>1761</th>\n",
       "      <td>1762</td>\n",
       "      <td>0.000003</td>\n",
       "      <td>117</td>\n",
       "      <td>0</td>\n",
       "      <td>3</td>\n",
       "      <td>2</td>\n",
       "      <td>0</td>\n",
       "      <td>168</td>\n",
       "      <td>0</td>\n",
       "      <td>333333.321500</td>\n",
       "      <td>...</td>\n",
       "      <td>1</td>\n",
       "      <td>1</td>\n",
       "      <td>1</td>\n",
       "      <td>1</td>\n",
       "      <td>0</td>\n",
       "      <td>0</td>\n",
       "      <td>0</td>\n",
       "      <td>1</td>\n",
       "      <td>2</td>\n",
       "      <td>0</td>\n",
       "    </tr>\n",
       "    <tr>\n",
       "      <th>...</th>\n",
       "      <td>...</td>\n",
       "      <td>...</td>\n",
       "      <td>...</td>\n",
       "      <td>...</td>\n",
       "      <td>...</td>\n",
       "      <td>...</td>\n",
       "      <td>...</td>\n",
       "      <td>...</td>\n",
       "      <td>...</td>\n",
       "      <td>...</td>\n",
       "      <td>...</td>\n",
       "      <td>...</td>\n",
       "      <td>...</td>\n",
       "      <td>...</td>\n",
       "      <td>...</td>\n",
       "      <td>...</td>\n",
       "      <td>...</td>\n",
       "      <td>...</td>\n",
       "      <td>...</td>\n",
       "      <td>...</td>\n",
       "      <td>...</td>\n",
       "    </tr>\n",
       "    <tr>\n",
       "      <th>42398</th>\n",
       "      <td>42399</td>\n",
       "      <td>0.921178</td>\n",
       "      <td>111</td>\n",
       "      <td>0</td>\n",
       "      <td>2</td>\n",
       "      <td>10</td>\n",
       "      <td>8</td>\n",
       "      <td>534</td>\n",
       "      <td>354</td>\n",
       "      <td>18.454631</td>\n",
       "      <td>...</td>\n",
       "      <td>2</td>\n",
       "      <td>1</td>\n",
       "      <td>1</td>\n",
       "      <td>2</td>\n",
       "      <td>0</td>\n",
       "      <td>0</td>\n",
       "      <td>0</td>\n",
       "      <td>2</td>\n",
       "      <td>3</td>\n",
       "      <td>0</td>\n",
       "    </tr>\n",
       "    <tr>\n",
       "      <th>74933</th>\n",
       "      <td>74934</td>\n",
       "      <td>0.000003</td>\n",
       "      <td>117</td>\n",
       "      <td>0</td>\n",
       "      <td>3</td>\n",
       "      <td>2</td>\n",
       "      <td>0</td>\n",
       "      <td>104</td>\n",
       "      <td>0</td>\n",
       "      <td>333333.321500</td>\n",
       "      <td>...</td>\n",
       "      <td>1</td>\n",
       "      <td>1</td>\n",
       "      <td>1</td>\n",
       "      <td>3</td>\n",
       "      <td>0</td>\n",
       "      <td>0</td>\n",
       "      <td>0</td>\n",
       "      <td>1</td>\n",
       "      <td>3</td>\n",
       "      <td>0</td>\n",
       "    </tr>\n",
       "    <tr>\n",
       "      <th>41386</th>\n",
       "      <td>41387</td>\n",
       "      <td>0.301283</td>\n",
       "      <td>111</td>\n",
       "      <td>0</td>\n",
       "      <td>1</td>\n",
       "      <td>6</td>\n",
       "      <td>2</td>\n",
       "      <td>998</td>\n",
       "      <td>86</td>\n",
       "      <td>23.233969</td>\n",
       "      <td>...</td>\n",
       "      <td>3</td>\n",
       "      <td>3</td>\n",
       "      <td>1</td>\n",
       "      <td>3</td>\n",
       "      <td>0</td>\n",
       "      <td>0</td>\n",
       "      <td>0</td>\n",
       "      <td>4</td>\n",
       "      <td>3</td>\n",
       "      <td>0</td>\n",
       "    </tr>\n",
       "    <tr>\n",
       "      <th>18065</th>\n",
       "      <td>18066</td>\n",
       "      <td>0.000005</td>\n",
       "      <td>117</td>\n",
       "      <td>2</td>\n",
       "      <td>3</td>\n",
       "      <td>2</td>\n",
       "      <td>0</td>\n",
       "      <td>114</td>\n",
       "      <td>0</td>\n",
       "      <td>200000.005100</td>\n",
       "      <td>...</td>\n",
       "      <td>18</td>\n",
       "      <td>18</td>\n",
       "      <td>18</td>\n",
       "      <td>34</td>\n",
       "      <td>0</td>\n",
       "      <td>0</td>\n",
       "      <td>0</td>\n",
       "      <td>19</td>\n",
       "      <td>34</td>\n",
       "      <td>0</td>\n",
       "    </tr>\n",
       "    <tr>\n",
       "      <th>29913</th>\n",
       "      <td>29914</td>\n",
       "      <td>0.005071</td>\n",
       "      <td>111</td>\n",
       "      <td>0</td>\n",
       "      <td>2</td>\n",
       "      <td>18</td>\n",
       "      <td>18</td>\n",
       "      <td>4256</td>\n",
       "      <td>2456</td>\n",
       "      <td>6901.991451</td>\n",
       "      <td>...</td>\n",
       "      <td>4</td>\n",
       "      <td>1</td>\n",
       "      <td>1</td>\n",
       "      <td>3</td>\n",
       "      <td>0</td>\n",
       "      <td>0</td>\n",
       "      <td>0</td>\n",
       "      <td>4</td>\n",
       "      <td>8</td>\n",
       "      <td>0</td>\n",
       "    </tr>\n",
       "  </tbody>\n",
       "</table>\n",
       "<p>80000 rows × 43 columns</p>\n",
       "</div>"
      ],
      "text/plain": [
       "          id       dur  proto  service  state  spkts  dpkts  sbytes  dbytes  \\\n",
       "54468  54469  0.000007    117        2      3      2      0     114       0   \n",
       "68847  68848  0.000002    117        0      3      2      0     104       0   \n",
       "74007  74008  0.000000      6        0      3      1      0      46       0   \n",
       "54749  54750  0.912468    111        5      2     28    136    1966  172106   \n",
       "1761    1762  0.000003    117        0      3      2      0     168       0   \n",
       "...      ...       ...    ...      ...    ...    ...    ...     ...     ...   \n",
       "42398  42399  0.921178    111        0      2     10      8     534     354   \n",
       "74933  74934  0.000003    117        0      3      2      0     104       0   \n",
       "41386  41387  0.301283    111        0      1      6      2     998      86   \n",
       "18065  18066  0.000005    117        2      3      2      0     114       0   \n",
       "29913  29914  0.005071    111        0      2     18     18    4256    2456   \n",
       "\n",
       "                rate  ...  ct_dst_ltm  ct_src_dport_ltm  ct_dst_sport_ltm  \\\n",
       "54468  142857.140900  ...           4                 4                 4   \n",
       "68847  500000.001300  ...           1                 1                 1   \n",
       "74007       0.000000  ...           1                 1                 1   \n",
       "54749     178.636398  ...           5                 1                 1   \n",
       "1761   333333.321500  ...           1                 1                 1   \n",
       "...              ...  ...         ...               ...               ...   \n",
       "42398      18.454631  ...           2                 1                 1   \n",
       "74933  333333.321500  ...           1                 1                 1   \n",
       "41386      23.233969  ...           3                 3                 1   \n",
       "18065  200000.005100  ...          18                18                18   \n",
       "29913    6901.991451  ...           4                 1                 1   \n",
       "\n",
       "       ct_dst_src_ltm  is_ftp_login  ct_ftp_cmd  ct_flw_http_mthd  ct_src_ltm  \\\n",
       "54468               4             0           0                 0           4   \n",
       "68847               2             0           0                 0           1   \n",
       "74007               1             0           0                 0           1   \n",
       "54749               1             0           0                 1           1   \n",
       "1761                1             0           0                 0           1   \n",
       "...               ...           ...         ...               ...         ...   \n",
       "42398               2             0           0                 0           2   \n",
       "74933               3             0           0                 0           1   \n",
       "41386               3             0           0                 0           4   \n",
       "18065              34             0           0                 0          19   \n",
       "29913               3             0           0                 0           4   \n",
       "\n",
       "       ct_srv_dst  is_sm_ips_ports  \n",
       "54468          11                0  \n",
       "68847           2                0  \n",
       "74007           1                1  \n",
       "54749           1                0  \n",
       "1761            2                0  \n",
       "...           ...              ...  \n",
       "42398           3                0  \n",
       "74933           3                0  \n",
       "41386           3                0  \n",
       "18065          34                0  \n",
       "29913           8                0  \n",
       "\n",
       "[80000 rows x 43 columns]"
      ]
     },
     "execution_count": 10,
     "metadata": {},
     "output_type": "execute_result"
    }
   ],
   "source": [
    "X"
   ]
  },
  {
   "cell_type": "code",
   "execution_count": 11,
   "id": "90afa42e",
   "metadata": {},
   "outputs": [
    {
     "data": {
      "text/plain": [
       "54468    1\n",
       "68847    0\n",
       "74007    0\n",
       "54749    1\n",
       "1761     1\n",
       "        ..\n",
       "42398    0\n",
       "74933    0\n",
       "41386    0\n",
       "18065    1\n",
       "29913    0\n",
       "Name: label, Length: 80000, dtype: int64"
      ]
     },
     "execution_count": 11,
     "metadata": {},
     "output_type": "execute_result"
    }
   ],
   "source": [
    "Y"
   ]
  },
  {
   "cell_type": "code",
   "execution_count": 12,
   "id": "3fe31397",
   "metadata": {},
   "outputs": [
    {
     "name": "stdout",
     "output_type": "stream",
     "text": [
      "Feature Importances:\n",
      "id: 0.19707820949084653\n",
      "dur: 0.005950040019973949\n",
      "proto: 0.006180022233241782\n",
      "service: 0.029044492451659812\n",
      "state: 0.04520478130835601\n",
      "spkts: 0.003939721926735559\n",
      "dpkts: 0.003749684698929643\n",
      "sbytes: 0.01216536785999709\n",
      "dbytes: 0.0042877548066309334\n",
      "rate: 0.01852265380095206\n",
      "sttl: 0.1228085822174216\n",
      "dttl: 0.07012104262104703\n",
      "sload: 0.009826202520406644\n",
      "dload: 0.01847667547132138\n",
      "sloss: 0.004412444922862109\n",
      "dloss: 0.004762603035485776\n",
      "sinpkt: 0.009232450932280286\n",
      "dinpkt: 0.003148577036401714\n",
      "sjit: 0.0030554269134300143\n",
      "djit: 0.0036867532598647643\n",
      "swin: 0.04775764649834894\n",
      "stcpb: 0.010913849151381494\n",
      "dtcpb: 0.011699915917061347\n",
      "dwin: 0.025901694312494106\n",
      "tcprtt: 0.009155805586974321\n",
      "synack: 0.009039947732011533\n",
      "ackdat: 0.0064674914495212775\n",
      "smean: 0.021526164601907153\n",
      "dmean: 0.018340819574014802\n",
      "trans_depth: 0.007515510087695295\n",
      "response_body_len: 0.002025503632056026\n",
      "ct_srv_src: 0.01924663551556076\n",
      "ct_state_ttl: 0.059909475526556094\n",
      "ct_dst_ltm: 0.01109907687915796\n",
      "ct_src_dport_ltm: 0.017516969649079724\n",
      "ct_dst_sport_ltm: 0.03495490651251585\n",
      "ct_dst_src_ltm: 0.0613092932627367\n",
      "is_ftp_login: 0.00046577324172112895\n",
      "ct_ftp_cmd: 0.00040267331531255383\n",
      "ct_flw_http_mthd: 0.0038360024125737697\n",
      "ct_src_ltm: 0.0110724924177755\n",
      "ct_srv_dst: 0.028855840338082486\n",
      "is_sm_ips_ports: 0.005333024857616401\n"
     ]
    }
   ],
   "source": [
    "#Extra Tree classifier code for Minimu Feature\n",
    "from sklearn.ensemble import ExtraTreesClassifier\n",
    "# Create an Extra Trees Classifier\n",
    "extra_trees = ExtraTreesClassifier()\n",
    "\n",
    "# Fit the model to your data\n",
    "extra_trees.fit(X, Y)\n",
    "\n",
    "# Print feature importances\n",
    "feature_importances = extra_trees.feature_importances_\n",
    "print(\"Feature Importances:\")\n",
    "for feature, importance in zip(X.columns, feature_importances):\n",
    "    print(f\"{feature}: {importance}\")"
   ]
  },
  {
   "cell_type": "code",
   "execution_count": 13,
   "id": "3516e5ef",
   "metadata": {},
   "outputs": [
    {
     "name": "stdout",
     "output_type": "stream",
     "text": [
      "Feature Importances (Sorted):\n",
      "id: 0.19707820949084653\n",
      "sttl: 0.1228085822174216\n",
      "dttl: 0.07012104262104703\n",
      "ct_dst_src_ltm: 0.0613092932627367\n",
      "ct_state_ttl: 0.059909475526556094\n",
      "swin: 0.04775764649834894\n",
      "state: 0.04520478130835601\n",
      "ct_dst_sport_ltm: 0.03495490651251585\n",
      "service: 0.029044492451659812\n",
      "ct_srv_dst: 0.028855840338082486\n",
      "dwin: 0.025901694312494106\n",
      "smean: 0.021526164601907153\n",
      "ct_srv_src: 0.01924663551556076\n",
      "rate: 0.01852265380095206\n",
      "dload: 0.01847667547132138\n",
      "dmean: 0.018340819574014802\n",
      "ct_src_dport_ltm: 0.017516969649079724\n",
      "sbytes: 0.01216536785999709\n",
      "dtcpb: 0.011699915917061347\n",
      "ct_dst_ltm: 0.01109907687915796\n",
      "ct_src_ltm: 0.0110724924177755\n",
      "stcpb: 0.010913849151381494\n",
      "sload: 0.009826202520406644\n",
      "sinpkt: 0.009232450932280286\n",
      "tcprtt: 0.009155805586974321\n",
      "synack: 0.009039947732011533\n",
      "trans_depth: 0.007515510087695295\n",
      "ackdat: 0.0064674914495212775\n",
      "proto: 0.006180022233241782\n",
      "dur: 0.005950040019973949\n",
      "is_sm_ips_ports: 0.005333024857616401\n",
      "dloss: 0.004762603035485776\n",
      "sloss: 0.004412444922862109\n",
      "dbytes: 0.0042877548066309334\n",
      "spkts: 0.003939721926735559\n",
      "ct_flw_http_mthd: 0.0038360024125737697\n",
      "dpkts: 0.003749684698929643\n",
      "djit: 0.0036867532598647643\n",
      "dinpkt: 0.003148577036401714\n",
      "sjit: 0.0030554269134300143\n",
      "response_body_len: 0.002025503632056026\n",
      "is_ftp_login: 0.00046577324172112895\n",
      "ct_ftp_cmd: 0.00040267331531255383\n",
      "Selected Features with Importance >= 0.021:\n",
      "id: 0.19707820949084653\n",
      "service: 0.029044492451659812\n",
      "state: 0.04520478130835601\n",
      "sttl: 0.1228085822174216\n",
      "dttl: 0.07012104262104703\n",
      "swin: 0.04775764649834894\n",
      "dwin: 0.025901694312494106\n",
      "smean: 0.021526164601907153\n",
      "ct_state_ttl: 0.059909475526556094\n",
      "ct_dst_sport_ltm: 0.03495490651251585\n",
      "ct_dst_src_ltm: 0.0613092932627367\n",
      "ct_srv_dst: 0.028855840338082486\n"
     ]
    }
   ],
   "source": [
    "# Print feature importances in sorted order\n",
    "feature_importances = extra_trees.feature_importances_\n",
    "sorted_indices = np.argsort(feature_importances)[::-1]  # Sort indices in descending order\n",
    "\n",
    "print(\"Feature Importances (Sorted):\")\n",
    "for index in sorted_indices:\n",
    "    print(f\"{X.columns[index]}: {feature_importances[index]}\")\n",
    "# Define importance threshold\n",
    "threshold = 0.021\n",
    "\n",
    "# Print selected features with importance >= threshold\n",
    "print(\"Selected Features with Importance >= 0.021:\")\n",
    "for feature, importance in zip(X.columns, extra_trees.feature_importances_):\n",
    "    if importance >= threshold:\n",
    "        print(f\"{feature}: {importance}\")"
   ]
  },
  {
   "cell_type": "code",
   "execution_count": 14,
   "id": "f384bfca",
   "metadata": {},
   "outputs": [
    {
     "name": "stdout",
     "output_type": "stream",
     "text": [
      "Selected Features: ['id', 'service', 'state', 'sttl', 'dttl', 'swin', 'dwin', 'smean', 'ct_state_ttl', 'ct_dst_sport_ltm', 'ct_dst_src_ltm', 'ct_srv_dst']\n",
      "Shape of X_selected: (80000, 12)\n"
     ]
    }
   ],
   "source": [
    "threshold = 0.021\n",
    "\n",
    "# Select features with importance >= threshold\n",
    "selected_features = []\n",
    "for index, importance in enumerate(extra_trees.feature_importances_):\n",
    "    if importance >= threshold:\n",
    "        selected_features.append(X.columns[index])\n",
    "\n",
    "# Filter X based on selected features\n",
    "X = X[selected_features]\n",
    "\n",
    "# Now you can use X_selected for further processing\n",
    "print(\"Selected Features:\", selected_features)\n",
    "print(\"Shape of X_selected:\", X.shape)"
   ]
  },
  {
   "cell_type": "code",
   "execution_count": null,
   "id": "92873d4c",
   "metadata": {},
   "outputs": [],
   "source": []
  },
  {
   "cell_type": "code",
   "execution_count": 20,
   "id": "471b14e5",
   "metadata": {},
   "outputs": [],
   "source": [
    "dfETC=pd.DataFrame(X_new)\n",
    "dfETC.to_csv(\"D://Model/binary class model/binary-extraDFETC.csv\")"
   ]
  },
  {
   "cell_type": "code",
   "execution_count": 15,
   "id": "04c1c138",
   "metadata": {},
   "outputs": [],
   "source": [
    "from sklearn.preprocessing import StandardScaler\n",
    "sScaler = StandardScaler()\n",
    "rescaleX = sScaler.fit_transform(X)\n",
    "df_rescaled = pd.DataFrame(data=rescaleX)"
   ]
  },
  {
   "cell_type": "code",
   "execution_count": 22,
   "id": "4cb2f5e4",
   "metadata": {},
   "outputs": [],
   "source": [
    "df_rescaled.to_csv(\"D://Model/binary class model/binary-StandardScalar.csv\")"
   ]
  },
  {
   "cell_type": "code",
   "execution_count": 16,
   "id": "7630c8a2",
   "metadata": {},
   "outputs": [],
   "source": [
    "from sklearn.model_selection import train_test_split\n",
    "X_train, X_test, y_train, y_test = train_test_split(rescaleX, Y, test_size=0.3, random_state=10)"
   ]
  },
  {
   "cell_type": "code",
   "execution_count": 25,
   "id": "1f68de18",
   "metadata": {},
   "outputs": [],
   "source": [
    "XTr=pd.DataFrame(X_train)\n",
    "XTr.to_csv(\"D://Model/binary class model/binary-XTrXTr.csv\")"
   ]
  },
  {
   "cell_type": "code",
   "execution_count": 26,
   "id": "8e750744",
   "metadata": {},
   "outputs": [],
   "source": [
    "XTe=pd.DataFrame(X_test)\n",
    "XTe.to_csv(\"D://Model/binary class model/binary-X_test.csv\")"
   ]
  },
  {
   "cell_type": "code",
   "execution_count": 27,
   "id": "5ec26a93",
   "metadata": {},
   "outputs": [],
   "source": [
    "yTe=pd.DataFrame(y_test)\n",
    "yTe.to_csv(\"D://Model/binary class model/binary-y_test.csv\")"
   ]
  },
  {
   "cell_type": "code",
   "execution_count": 28,
   "id": "4a6ff751",
   "metadata": {},
   "outputs": [],
   "source": [
    "yTr=pd.DataFrame(y_train)\n",
    "yTr.to_csv(\"D://Model/binary class model/binary-y_train.csv\")"
   ]
  },
  {
   "cell_type": "code",
   "execution_count": 100,
   "id": "b8b9e871",
   "metadata": {},
   "outputs": [],
   "source": [
    "from tensorflow.keras.utils import to_categorical\n",
    "y_train = to_categorical(y_train)"
   ]
  },
  {
   "cell_type": "code",
   "execution_count": 102,
   "id": "abc32f18",
   "metadata": {},
   "outputs": [
    {
     "data": {
      "text/plain": [
       "37237    6\n",
       "75043    6\n",
       "37673    6\n",
       "73745    6\n",
       "49734    4\n",
       "        ..\n",
       "55713    4\n",
       "35076    6\n",
       "71855    6\n",
       "18416    5\n",
       "50839    3\n",
       "Name: attack_cat, Length: 24000, dtype: int8"
      ]
     },
     "execution_count": 102,
     "metadata": {},
     "output_type": "execute_result"
    }
   ],
   "source": [
    "y_test"
   ]
  },
  {
   "cell_type": "code",
   "execution_count": 15,
   "id": "ad81e973",
   "metadata": {},
   "outputs": [
    {
     "name": "stdout",
     "output_type": "stream",
     "text": [
      "Accuracy: 0.9999583333333333\n",
      "              precision    recall  f1-score   support\n",
      "\n",
      "           0       1.00      1.00      1.00     10798\n",
      "           1       1.00      1.00      1.00     13202\n",
      "\n",
      "    accuracy                           1.00     24000\n",
      "   macro avg       1.00      1.00      1.00     24000\n",
      "weighted avg       1.00      1.00      1.00     24000\n",
      "\n"
     ]
    }
   ],
   "source": [
    "model = RandomForestClassifier(oob_score=True)\n",
    "# Fit on training data\n",
    "modelhistory=model.fit(X_train, y_train)\n",
    "rf_predictions = model.predict(X_test)\n",
    "\n",
    "#testing set accuracy\n",
    "print(\"Accuracy:\",metrics.accuracy_score(y_test, rf_predictions))\n",
    "print(classification_report(y_test, rf_predictions))"
   ]
  },
  {
   "cell_type": "code",
   "execution_count": 16,
   "id": "2da6d4f4",
   "metadata": {},
   "outputs": [
    {
     "data": {
      "text/html": [
       "<div>\n",
       "<style scoped>\n",
       "    .dataframe tbody tr th:only-of-type {\n",
       "        vertical-align: middle;\n",
       "    }\n",
       "\n",
       "    .dataframe tbody tr th {\n",
       "        vertical-align: top;\n",
       "    }\n",
       "\n",
       "    .dataframe thead th {\n",
       "        text-align: right;\n",
       "    }\n",
       "</style>\n",
       "<table border=\"1\" class=\"dataframe\">\n",
       "  <thead>\n",
       "    <tr style=\"text-align: right;\">\n",
       "      <th>Predicted</th>\n",
       "      <th>0</th>\n",
       "      <th>1</th>\n",
       "      <th>All</th>\n",
       "    </tr>\n",
       "    <tr>\n",
       "      <th>True</th>\n",
       "      <th></th>\n",
       "      <th></th>\n",
       "      <th></th>\n",
       "    </tr>\n",
       "  </thead>\n",
       "  <tbody>\n",
       "    <tr>\n",
       "      <th>0</th>\n",
       "      <td>10797</td>\n",
       "      <td>1</td>\n",
       "      <td>10798</td>\n",
       "    </tr>\n",
       "    <tr>\n",
       "      <th>1</th>\n",
       "      <td>0</td>\n",
       "      <td>13202</td>\n",
       "      <td>13202</td>\n",
       "    </tr>\n",
       "    <tr>\n",
       "      <th>All</th>\n",
       "      <td>10797</td>\n",
       "      <td>13203</td>\n",
       "      <td>24000</td>\n",
       "    </tr>\n",
       "  </tbody>\n",
       "</table>\n",
       "</div>"
      ],
      "text/plain": [
       "Predicted      0      1    All\n",
       "True                          \n",
       "0          10797      1  10798\n",
       "1              0  13202  13202\n",
       "All        10797  13203  24000"
      ]
     },
     "execution_count": 16,
     "metadata": {},
     "output_type": "execute_result"
    }
   ],
   "source": [
    "pd.crosstab(y_test, rf_predictions, rownames=['True'], colnames=['Predicted'], margins=True)"
   ]
  },
  {
   "cell_type": "code",
   "execution_count": 17,
   "id": "31c2c911",
   "metadata": {},
   "outputs": [
    {
     "data": {
      "image/png": "[encoded data removed]",
      "text/plain": [
       "<Figure size 720x576 with 2 Axes>"
      ]
     },
     "metadata": {
      "needs_background": "light"
     },
     "output_type": "display_data"
    }
   ],
   "source": [
    "import numpy as np\n",
    "import tensorflow as tf\n",
    "from sklearn.metrics import confusion_matrix\n",
    "import seaborn as sns\n",
    "import matplotlib.pyplot as plt\n",
    "classes = ['0', '1']\n",
    "from sklearn.metrics import confusion_matrix\n",
    "cm = confusion_matrix(y_test,rf_predictions)\n",
    "\n",
    "\n",
    "\n",
    "# Plot the confusion matrix as a heatmap\n",
    "plt.figure(figsize=(10, 8))\n",
    "sns.heatmap(cm, annot=True, cmap='Blues', fmt='d', xticklabels=classes, yticklabels=classes)\n",
    "plt.xlabel('Predicted Labels')\n",
    "plt.ylabel('True Labels')\n",
    "plt.title('Confusion Matrix')\n",
    "plt.show()"
   ]
  },
  {
   "cell_type": "code",
   "execution_count": 18,
   "id": "01e28482",
   "metadata": {},
   "outputs": [
    {
     "data": {
      "image/png": "[encoded data removed]",
      "text/plain": [
       "<Figure size 576x432 with 1 Axes>"
      ]
     },
     "metadata": {
      "needs_background": "light"
     },
     "output_type": "display_data"
    }
   ],
   "source": [
    "from sklearn.metrics import roc_curve, auc\n",
    "import numpy as np\n",
    "import matplotlib.pyplot as plt\n",
    "fpr, tpr, _ = roc_curve(y_test, rf_predictions)\n",
    "roc_auc = auc(fpr, tpr)\n",
    "\n",
    "# Plot the ROC curve\n",
    "plt.figure(figsize=(8, 6))\n",
    "plt.plot(fpr, tpr, color='darkorange', lw=2, label=f'ROC curve (area = {roc_auc:.2f})')\n",
    "plt.plot([0, 1], [0, 1], color='navy', lw=2, linestyle='--')\n",
    "plt.xlim([0.0, 1.0])\n",
    "plt.ylim([0.0, 1.05])\n",
    "plt.xlabel('False Positive Rate')\n",
    "plt.ylabel('True Positive Rate')\n",
    "plt.title('Receiver Operating Characteristic (ROC) Curve')\n",
    "plt.legend(loc='lower right')\n",
    "plt.show()\n",
    "\n"
   ]
  },
  {
   "cell_type": "code",
   "execution_count": null,
   "id": "7518dcc6",
   "metadata": {},
   "outputs": [],
   "source": []
  }
 ],
 "metadata": {
  "kernelspec": {
   "display_name": "Python 3",
   "language": "python",
   "name": "python3"
  },
  "language_info": {
   "codemirror_mode": {
    "name": "ipython",
    "version": 3
   },
   "file_extension": ".py",
   "mimetype": "text/x-python",
   "name": "python",
   "nbconvert_exporter": "python",
   "pygments_lexer": "ipython3",
   "version": "3.6.13"
  }
 },
 "nbformat": 4,
 "nbformat_minor": 5
}
