{
 "cells": [
  {
   "cell_type": "code",
   "execution_count": 1,
   "id": "d36237dd",
   "metadata": {},
   "outputs": [],
   "source": [
    "import pandas as pd\n",
    "import numpy as np\n",
    "from collections import Counter\n",
    "from sklearn.datasets import make_classification\n",
    "\n",
    "\n",
    "from sklearn.metrics import accuracy_score, f1_score\n",
    "from sklearn.metrics import confusion_matrix\n",
    "from sklearn.model_selection import train_test_split\n",
    "from sklearn import metrics\n",
    "from sklearn.metrics import precision_score\n",
    "from sklearn.metrics import recall_score\n",
    "from sklearn.metrics import classification_report\n",
    "from sklearn.ensemble import RandomForestClassifier\n",
    " "
   ]
  },
  {
   "cell_type": "code",
   "execution_count": 2,
   "id": "ddcfd2a5",
   "metadata": {},
   "outputs": [],
   "source": [
    "\n",
    "df = pd.read_csv('UNSW_NB15_training-setbroadclass.csv')"
   ]
  },
  {
   "cell_type": "code",
   "execution_count": 3,
   "id": "2c140044",
   "metadata": {},
   "outputs": [],
   "source": [
    "df = df.sample(n=80000, replace=True)"
   ]
  },
  {
   "cell_type": "code",
   "execution_count": 4,
   "id": "8ee2916f",
   "metadata": {},
   "outputs": [],
   "source": [
    "df.to_csv(\"D://faranResearch/M6/M6-SampleDS.csv\")"
   ]
  },
  {
   "cell_type": "code",
   "execution_count": 4,
   "id": "7aff082a",
   "metadata": {},
   "outputs": [
    {
     "data": {
      "text/plain": [
       "(80000, 45)"
      ]
     },
     "execution_count": 4,
     "metadata": {},
     "output_type": "execute_result"
    }
   ],
   "source": [
    "df.shape"
   ]
  },
  {
   "cell_type": "code",
   "execution_count": 5,
   "id": "50fdbf9f",
   "metadata": {},
   "outputs": [
    {
     "data": {
      "text/plain": [
       "Normal         35816\n",
       "Penetration    30753\n",
       "Scanning        9367\n",
       "Seizure         4064\n",
       "Name: attack_cat, dtype: int64"
      ]
     },
     "execution_count": 5,
     "metadata": {},
     "output_type": "execute_result"
    }
   ],
   "source": [
    "dfCount=df.attack_cat.value_counts()\n",
    "dfCount"
   ]
  },
  {
   "cell_type": "code",
   "execution_count": 135,
   "id": "d356cbe4",
   "metadata": {},
   "outputs": [],
   "source": [
    "dfCount.to_csv(\"D://faranResearch/M6/M6-dfCount.csv\")"
   ]
  },
  {
   "cell_type": "code",
   "execution_count": 6,
   "id": "6e88175f",
   "metadata": {},
   "outputs": [],
   "source": [
    "df['proto'] = df['proto'].astype('category')\n",
    "df['service'] = df['service'].astype('category')\n",
    "df['state'] = df['state'].astype('category')\n",
    "df['attack_cat'] = df['attack_cat'].astype('category')\n",
    "cat_columns = df.select_dtypes(['category']).columns\n",
    "df[cat_columns] = df[cat_columns].apply(lambda x: x.cat.codes)"
   ]
  },
  {
   "cell_type": "code",
   "execution_count": 136,
   "id": "6f01fb48",
   "metadata": {},
   "outputs": [],
   "source": [
    "df.to_csv(\"D://faranResearch/M6/M6-CatColConvert.csv\")"
   ]
  },
  {
   "cell_type": "code",
   "execution_count": 7,
   "id": "b75de24c",
   "metadata": {},
   "outputs": [],
   "source": [
    "categorical_feature_mask = df.dtypes==object\n",
    "# filter categorical columns using mask and turn it into a list\n",
    "categorical_cols = df.columns[categorical_feature_mask].tolist()"
   ]
  },
  {
   "cell_type": "code",
   "execution_count": 8,
   "id": "15bc3bca",
   "metadata": {},
   "outputs": [],
   "source": [
    "X = df.iloc[:, :-2]\n",
    "Y=df['attack_cat']"
   ]
  },
  {
   "cell_type": "code",
   "execution_count": 9,
   "id": "a8bfd5b8",
   "metadata": {},
   "outputs": [
    {
     "data": {
      "text/html": [
       "<div>\n",
       "<style scoped>\n",
       "    .dataframe tbody tr th:only-of-type {\n",
       "        vertical-align: middle;\n",
       "    }\n",
       "\n",
       "    .dataframe tbody tr th {\n",
       "        vertical-align: top;\n",
       "    }\n",
       "\n",
       "    .dataframe thead th {\n",
       "        text-align: right;\n",
       "    }\n",
       "</style>\n",
       "<table border=\"1\" class=\"dataframe\">\n",
       "  <thead>\n",
       "    <tr style=\"text-align: right;\">\n",
       "      <th></th>\n",
       "      <th>id</th>\n",
       "      <th>dur</th>\n",
       "      <th>proto</th>\n",
       "      <th>service</th>\n",
       "      <th>state</th>\n",
       "      <th>spkts</th>\n",
       "      <th>dpkts</th>\n",
       "      <th>sbytes</th>\n",
       "      <th>dbytes</th>\n",
       "      <th>rate</th>\n",
       "      <th>...</th>\n",
       "      <th>ct_dst_ltm</th>\n",
       "      <th>ct_src_dport_ltm</th>\n",
       "      <th>ct_dst_sport_ltm</th>\n",
       "      <th>ct_dst_src_ltm</th>\n",
       "      <th>is_ftp_login</th>\n",
       "      <th>ct_ftp_cmd</th>\n",
       "      <th>ct_flw_http_mthd</th>\n",
       "      <th>ct_src_ltm</th>\n",
       "      <th>ct_srv_dst</th>\n",
       "      <th>is_sm_ips_ports</th>\n",
       "    </tr>\n",
       "  </thead>\n",
       "  <tbody>\n",
       "    <tr>\n",
       "      <th>30783</th>\n",
       "      <td>30784</td>\n",
       "      <td>0.118234</td>\n",
       "      <td>111</td>\n",
       "      <td>0</td>\n",
       "      <td>3</td>\n",
       "      <td>72</td>\n",
       "      <td>72</td>\n",
       "      <td>4238</td>\n",
       "      <td>63774</td>\n",
       "      <td>1209.465963</td>\n",
       "      <td>...</td>\n",
       "      <td>3</td>\n",
       "      <td>1</td>\n",
       "      <td>1</td>\n",
       "      <td>1</td>\n",
       "      <td>0</td>\n",
       "      <td>0</td>\n",
       "      <td>0</td>\n",
       "      <td>4</td>\n",
       "      <td>10</td>\n",
       "      <td>0</td>\n",
       "    </tr>\n",
       "    <tr>\n",
       "      <th>44775</th>\n",
       "      <td>44776</td>\n",
       "      <td>1.316338</td>\n",
       "      <td>111</td>\n",
       "      <td>5</td>\n",
       "      <td>3</td>\n",
       "      <td>10</td>\n",
       "      <td>8</td>\n",
       "      <td>1032</td>\n",
       "      <td>354</td>\n",
       "      <td>12.914617</td>\n",
       "      <td>...</td>\n",
       "      <td>1</td>\n",
       "      <td>2</td>\n",
       "      <td>1</td>\n",
       "      <td>1</td>\n",
       "      <td>0</td>\n",
       "      <td>0</td>\n",
       "      <td>0</td>\n",
       "      <td>2</td>\n",
       "      <td>1</td>\n",
       "      <td>0</td>\n",
       "    </tr>\n",
       "    <tr>\n",
       "      <th>20032</th>\n",
       "      <td>20033</td>\n",
       "      <td>0.000009</td>\n",
       "      <td>117</td>\n",
       "      <td>2</td>\n",
       "      <td>4</td>\n",
       "      <td>2</td>\n",
       "      <td>0</td>\n",
       "      <td>114</td>\n",
       "      <td>0</td>\n",
       "      <td>111111.107200</td>\n",
       "      <td>...</td>\n",
       "      <td>43</td>\n",
       "      <td>43</td>\n",
       "      <td>25</td>\n",
       "      <td>52</td>\n",
       "      <td>0</td>\n",
       "      <td>0</td>\n",
       "      <td>0</td>\n",
       "      <td>43</td>\n",
       "      <td>52</td>\n",
       "      <td>0</td>\n",
       "    </tr>\n",
       "    <tr>\n",
       "      <th>43310</th>\n",
       "      <td>43311</td>\n",
       "      <td>0.791017</td>\n",
       "      <td>111</td>\n",
       "      <td>0</td>\n",
       "      <td>3</td>\n",
       "      <td>32</td>\n",
       "      <td>16</td>\n",
       "      <td>29852</td>\n",
       "      <td>850</td>\n",
       "      <td>59.417181</td>\n",
       "      <td>...</td>\n",
       "      <td>2</td>\n",
       "      <td>2</td>\n",
       "      <td>1</td>\n",
       "      <td>5</td>\n",
       "      <td>0</td>\n",
       "      <td>0</td>\n",
       "      <td>0</td>\n",
       "      <td>2</td>\n",
       "      <td>5</td>\n",
       "      <td>0</td>\n",
       "    </tr>\n",
       "    <tr>\n",
       "      <th>76298</th>\n",
       "      <td>76299</td>\n",
       "      <td>0.000000</td>\n",
       "      <td>6</td>\n",
       "      <td>0</td>\n",
       "      <td>4</td>\n",
       "      <td>1</td>\n",
       "      <td>0</td>\n",
       "      <td>46</td>\n",
       "      <td>0</td>\n",
       "      <td>0.000000</td>\n",
       "      <td>...</td>\n",
       "      <td>1</td>\n",
       "      <td>1</td>\n",
       "      <td>1</td>\n",
       "      <td>1</td>\n",
       "      <td>0</td>\n",
       "      <td>0</td>\n",
       "      <td>0</td>\n",
       "      <td>1</td>\n",
       "      <td>1</td>\n",
       "      <td>1</td>\n",
       "    </tr>\n",
       "    <tr>\n",
       "      <th>...</th>\n",
       "      <td>...</td>\n",
       "      <td>...</td>\n",
       "      <td>...</td>\n",
       "      <td>...</td>\n",
       "      <td>...</td>\n",
       "      <td>...</td>\n",
       "      <td>...</td>\n",
       "      <td>...</td>\n",
       "      <td>...</td>\n",
       "      <td>...</td>\n",
       "      <td>...</td>\n",
       "      <td>...</td>\n",
       "      <td>...</td>\n",
       "      <td>...</td>\n",
       "      <td>...</td>\n",
       "      <td>...</td>\n",
       "      <td>...</td>\n",
       "      <td>...</td>\n",
       "      <td>...</td>\n",
       "      <td>...</td>\n",
       "      <td>...</td>\n",
       "    </tr>\n",
       "    <tr>\n",
       "      <th>54982</th>\n",
       "      <td>54983</td>\n",
       "      <td>0.000011</td>\n",
       "      <td>117</td>\n",
       "      <td>2</td>\n",
       "      <td>4</td>\n",
       "      <td>2</td>\n",
       "      <td>0</td>\n",
       "      <td>114</td>\n",
       "      <td>0</td>\n",
       "      <td>90909.090200</td>\n",
       "      <td>...</td>\n",
       "      <td>3</td>\n",
       "      <td>3</td>\n",
       "      <td>3</td>\n",
       "      <td>3</td>\n",
       "      <td>0</td>\n",
       "      <td>0</td>\n",
       "      <td>0</td>\n",
       "      <td>3</td>\n",
       "      <td>7</td>\n",
       "      <td>0</td>\n",
       "    </tr>\n",
       "    <tr>\n",
       "      <th>28748</th>\n",
       "      <td>28749</td>\n",
       "      <td>0.018724</td>\n",
       "      <td>111</td>\n",
       "      <td>0</td>\n",
       "      <td>3</td>\n",
       "      <td>16</td>\n",
       "      <td>18</td>\n",
       "      <td>1540</td>\n",
       "      <td>1644</td>\n",
       "      <td>1762.443915</td>\n",
       "      <td>...</td>\n",
       "      <td>8</td>\n",
       "      <td>6</td>\n",
       "      <td>1</td>\n",
       "      <td>6</td>\n",
       "      <td>0</td>\n",
       "      <td>0</td>\n",
       "      <td>0</td>\n",
       "      <td>8</td>\n",
       "      <td>10</td>\n",
       "      <td>0</td>\n",
       "    </tr>\n",
       "    <tr>\n",
       "      <th>43428</th>\n",
       "      <td>43429</td>\n",
       "      <td>0.000000</td>\n",
       "      <td>6</td>\n",
       "      <td>0</td>\n",
       "      <td>4</td>\n",
       "      <td>1</td>\n",
       "      <td>0</td>\n",
       "      <td>46</td>\n",
       "      <td>0</td>\n",
       "      <td>0.000000</td>\n",
       "      <td>...</td>\n",
       "      <td>1</td>\n",
       "      <td>1</td>\n",
       "      <td>1</td>\n",
       "      <td>1</td>\n",
       "      <td>0</td>\n",
       "      <td>0</td>\n",
       "      <td>0</td>\n",
       "      <td>1</td>\n",
       "      <td>1</td>\n",
       "      <td>1</td>\n",
       "    </tr>\n",
       "    <tr>\n",
       "      <th>21246</th>\n",
       "      <td>21247</td>\n",
       "      <td>0.000003</td>\n",
       "      <td>117</td>\n",
       "      <td>2</td>\n",
       "      <td>4</td>\n",
       "      <td>2</td>\n",
       "      <td>0</td>\n",
       "      <td>114</td>\n",
       "      <td>0</td>\n",
       "      <td>333333.321500</td>\n",
       "      <td>...</td>\n",
       "      <td>43</td>\n",
       "      <td>43</td>\n",
       "      <td>18</td>\n",
       "      <td>52</td>\n",
       "      <td>0</td>\n",
       "      <td>0</td>\n",
       "      <td>0</td>\n",
       "      <td>43</td>\n",
       "      <td>52</td>\n",
       "      <td>0</td>\n",
       "    </tr>\n",
       "    <tr>\n",
       "      <th>58286</th>\n",
       "      <td>58287</td>\n",
       "      <td>0.000010</td>\n",
       "      <td>36</td>\n",
       "      <td>0</td>\n",
       "      <td>4</td>\n",
       "      <td>2</td>\n",
       "      <td>0</td>\n",
       "      <td>200</td>\n",
       "      <td>0</td>\n",
       "      <td>100000.002500</td>\n",
       "      <td>...</td>\n",
       "      <td>4</td>\n",
       "      <td>4</td>\n",
       "      <td>4</td>\n",
       "      <td>4</td>\n",
       "      <td>0</td>\n",
       "      <td>0</td>\n",
       "      <td>0</td>\n",
       "      <td>8</td>\n",
       "      <td>11</td>\n",
       "      <td>0</td>\n",
       "    </tr>\n",
       "  </tbody>\n",
       "</table>\n",
       "<p>80000 rows × 43 columns</p>\n",
       "</div>"
      ],
      "text/plain": [
       "          id       dur  proto  service  state  spkts  dpkts  sbytes  dbytes  \\\n",
       "30783  30784  0.118234    111        0      3     72     72    4238   63774   \n",
       "44775  44776  1.316338    111        5      3     10      8    1032     354   \n",
       "20032  20033  0.000009    117        2      4      2      0     114       0   \n",
       "43310  43311  0.791017    111        0      3     32     16   29852     850   \n",
       "76298  76299  0.000000      6        0      4      1      0      46       0   \n",
       "...      ...       ...    ...      ...    ...    ...    ...     ...     ...   \n",
       "54982  54983  0.000011    117        2      4      2      0     114       0   \n",
       "28748  28749  0.018724    111        0      3     16     18    1540    1644   \n",
       "43428  43429  0.000000      6        0      4      1      0      46       0   \n",
       "21246  21247  0.000003    117        2      4      2      0     114       0   \n",
       "58286  58287  0.000010     36        0      4      2      0     200       0   \n",
       "\n",
       "                rate  ...  ct_dst_ltm  ct_src_dport_ltm  ct_dst_sport_ltm  \\\n",
       "30783    1209.465963  ...           3                 1                 1   \n",
       "44775      12.914617  ...           1                 2                 1   \n",
       "20032  111111.107200  ...          43                43                25   \n",
       "43310      59.417181  ...           2                 2                 1   \n",
       "76298       0.000000  ...           1                 1                 1   \n",
       "...              ...  ...         ...               ...               ...   \n",
       "54982   90909.090200  ...           3                 3                 3   \n",
       "28748    1762.443915  ...           8                 6                 1   \n",
       "43428       0.000000  ...           1                 1                 1   \n",
       "21246  333333.321500  ...          43                43                18   \n",
       "58286  100000.002500  ...           4                 4                 4   \n",
       "\n",
       "       ct_dst_src_ltm  is_ftp_login  ct_ftp_cmd  ct_flw_http_mthd  ct_src_ltm  \\\n",
       "30783               1             0           0                 0           4   \n",
       "44775               1             0           0                 0           2   \n",
       "20032              52             0           0                 0          43   \n",
       "43310               5             0           0                 0           2   \n",
       "76298               1             0           0                 0           1   \n",
       "...               ...           ...         ...               ...         ...   \n",
       "54982               3             0           0                 0           3   \n",
       "28748               6             0           0                 0           8   \n",
       "43428               1             0           0                 0           1   \n",
       "21246              52             0           0                 0          43   \n",
       "58286               4             0           0                 0           8   \n",
       "\n",
       "       ct_srv_dst  is_sm_ips_ports  \n",
       "30783          10                0  \n",
       "44775           1                0  \n",
       "20032          52                0  \n",
       "43310           5                0  \n",
       "76298           1                1  \n",
       "...           ...              ...  \n",
       "54982           7                0  \n",
       "28748          10                0  \n",
       "43428           1                1  \n",
       "21246          52                0  \n",
       "58286          11                0  \n",
       "\n",
       "[80000 rows x 43 columns]"
      ]
     },
     "execution_count": 9,
     "metadata": {},
     "output_type": "execute_result"
    }
   ],
   "source": [
    "X"
   ]
  },
  {
   "cell_type": "code",
   "execution_count": 131,
   "id": "471b14e5",
   "metadata": {},
   "outputs": [],
   "source": [
    "dfETC=pd.DataFrame(X_new)\n",
    "dfETC.to_csv(\"D://faranResearch/M6/M6-DFETC.csv\")"
   ]
  },
  {
   "cell_type": "code",
   "execution_count": 10,
   "id": "d22180a2",
   "metadata": {},
   "outputs": [
    {
     "data": {
      "text/plain": [
       "30783    0\n",
       "44775    1\n",
       "20032    1\n",
       "43310    0\n",
       "76298    0\n",
       "        ..\n",
       "54982    1\n",
       "28748    0\n",
       "43428    0\n",
       "21246    1\n",
       "58286    1\n",
       "Name: attack_cat, Length: 80000, dtype: int8"
      ]
     },
     "execution_count": 10,
     "metadata": {},
     "output_type": "execute_result"
    }
   ],
   "source": [
    "Y"
   ]
  },
  {
   "cell_type": "code",
   "execution_count": 11,
   "id": "9f94d3c6",
   "metadata": {},
   "outputs": [
    {
     "name": "stdout",
     "output_type": "stream",
     "text": [
      "Feature Importances:\n",
      "id: 0.22606805662921994\n",
      "dur: 0.009009100946621097\n",
      "proto: 0.012681285977660614\n",
      "service: 0.05149022945633448\n",
      "state: 0.01771728351327641\n",
      "spkts: 0.005210715790329177\n",
      "dpkts: 0.006014651369369376\n",
      "sbytes: 0.018802440799456643\n",
      "dbytes: 0.006437669661002327\n",
      "rate: 0.02081418300101514\n",
      "sttl: 0.08847688485371709\n",
      "dttl: 0.04454299476860273\n",
      "sload: 0.013997038247418265\n",
      "dload: 0.017000549404337227\n",
      "sloss: 0.005266251138051849\n",
      "dloss: 0.00677015868342449\n",
      "sinpkt: 0.012241863493474317\n",
      "dinpkt: 0.0049840551218406064\n",
      "sjit: 0.00609183340721885\n",
      "djit: 0.005415894482615814\n",
      "swin: 0.03399651583883412\n",
      "stcpb: 0.009516605513558703\n",
      "dtcpb: 0.006248880804980868\n",
      "dwin: 0.01890978703638903\n",
      "tcprtt: 0.0098384000859924\n",
      "synack: 0.008100828976127204\n",
      "ackdat: 0.007136036060450273\n",
      "smean: 0.029880574679995314\n",
      "dmean: 0.01734496157475577\n",
      "trans_depth: 0.006563613432400648\n",
      "response_body_len: 0.0019621457408775956\n",
      "ct_srv_src: 0.027569571262910632\n",
      "ct_state_ttl: 0.05533618513936475\n",
      "ct_dst_ltm: 0.01739872938744967\n",
      "ct_src_dport_ltm: 0.02421015450330907\n",
      "ct_dst_sport_ltm: 0.04366055081701235\n",
      "ct_dst_src_ltm: 0.0444602770258136\n",
      "is_ftp_login: 0.0005011126356639072\n",
      "ct_ftp_cmd: 0.0006378690560561055\n",
      "ct_flw_http_mthd: 0.004302360079832645\n",
      "ct_src_ltm: 0.017313038617995605\n",
      "ct_srv_dst: 0.034131091421911675\n",
      "is_sm_ips_ports: 0.0019475695633317117\n"
     ]
    }
   ],
   "source": [
    "#Extra Tree classifier code for Minimu Feature\n",
    "from sklearn.ensemble import ExtraTreesClassifier\n",
    "# Create an Extra Trees Classifier\n",
    "extra_trees = ExtraTreesClassifier()\n",
    "\n",
    "# Fit the model to your data\n",
    "extra_trees.fit(X, Y)\n",
    "\n",
    "# Print feature importances\n",
    "feature_importances = extra_trees.feature_importances_\n",
    "print(\"Feature Importances:\")\n",
    "for feature, importance in zip(X.columns, feature_importances):\n",
    "    print(f\"{feature}: {importance}\")"
   ]
  },
  {
   "cell_type": "code",
   "execution_count": 12,
   "id": "ed53bfba",
   "metadata": {},
   "outputs": [
    {
     "name": "stdout",
     "output_type": "stream",
     "text": [
      "Feature Importances (Sorted):\n",
      "id: 0.22606805662921994\n",
      "sttl: 0.08847688485371709\n",
      "ct_state_ttl: 0.05533618513936475\n",
      "service: 0.05149022945633448\n",
      "dttl: 0.04454299476860273\n",
      "ct_dst_src_ltm: 0.0444602770258136\n",
      "ct_dst_sport_ltm: 0.04366055081701235\n",
      "ct_srv_dst: 0.034131091421911675\n",
      "swin: 0.03399651583883412\n",
      "smean: 0.029880574679995314\n",
      "ct_srv_src: 0.027569571262910632\n",
      "ct_src_dport_ltm: 0.02421015450330907\n",
      "rate: 0.02081418300101514\n",
      "dwin: 0.01890978703638903\n",
      "sbytes: 0.018802440799456643\n",
      "state: 0.01771728351327641\n",
      "ct_dst_ltm: 0.01739872938744967\n",
      "dmean: 0.01734496157475577\n",
      "ct_src_ltm: 0.017313038617995605\n",
      "dload: 0.017000549404337227\n",
      "sload: 0.013997038247418265\n",
      "proto: 0.012681285977660614\n",
      "sinpkt: 0.012241863493474317\n",
      "tcprtt: 0.0098384000859924\n",
      "stcpb: 0.009516605513558703\n",
      "dur: 0.009009100946621097\n",
      "synack: 0.008100828976127204\n",
      "ackdat: 0.007136036060450273\n",
      "dloss: 0.00677015868342449\n",
      "trans_depth: 0.006563613432400648\n",
      "dbytes: 0.006437669661002327\n",
      "dtcpb: 0.006248880804980868\n",
      "sjit: 0.00609183340721885\n",
      "dpkts: 0.006014651369369376\n",
      "djit: 0.005415894482615814\n",
      "sloss: 0.005266251138051849\n",
      "spkts: 0.005210715790329177\n",
      "dinpkt: 0.0049840551218406064\n",
      "ct_flw_http_mthd: 0.004302360079832645\n",
      "response_body_len: 0.0019621457408775956\n",
      "is_sm_ips_ports: 0.0019475695633317117\n",
      "ct_ftp_cmd: 0.0006378690560561055\n",
      "is_ftp_login: 0.0005011126356639072\n",
      "Selected Features with Importance >= 0.021:\n",
      "id: 0.22606805662921994\n",
      "service: 0.05149022945633448\n",
      "sttl: 0.08847688485371709\n",
      "dttl: 0.04454299476860273\n",
      "swin: 0.03399651583883412\n",
      "smean: 0.029880574679995314\n",
      "ct_srv_src: 0.027569571262910632\n",
      "ct_state_ttl: 0.05533618513936475\n",
      "ct_src_dport_ltm: 0.02421015450330907\n",
      "ct_dst_sport_ltm: 0.04366055081701235\n",
      "ct_dst_src_ltm: 0.0444602770258136\n",
      "ct_srv_dst: 0.034131091421911675\n"
     ]
    }
   ],
   "source": [
    "# Print feature importances in sorted order\n",
    "feature_importances = extra_trees.feature_importances_\n",
    "sorted_indices = np.argsort(feature_importances)[::-1]  # Sort indices in descending order\n",
    "\n",
    "print(\"Feature Importances (Sorted):\")\n",
    "for index in sorted_indices:\n",
    "    print(f\"{X.columns[index]}: {feature_importances[index]}\")\n",
    "# Define importance threshold\n",
    "threshold = 0.021\n",
    "\n",
    "# Print selected features with importance >= threshold\n",
    "print(\"Selected Features with Importance >= 0.021:\")\n",
    "for feature, importance in zip(X.columns, extra_trees.feature_importances_):\n",
    "    if importance >= threshold:\n",
    "        print(f\"{feature}: {importance}\")"
   ]
  },
  {
   "cell_type": "code",
   "execution_count": 13,
   "id": "d7d17ddc",
   "metadata": {},
   "outputs": [
    {
     "name": "stdout",
     "output_type": "stream",
     "text": [
      "Selected Features: ['id', 'service', 'sttl', 'dttl', 'swin', 'smean', 'ct_srv_src', 'ct_state_ttl', 'ct_src_dport_ltm', 'ct_dst_sport_ltm', 'ct_dst_src_ltm', 'ct_srv_dst']\n",
      "Shape of X_selected: (80000, 12)\n"
     ]
    }
   ],
   "source": [
    "threshold = 0.021\n",
    "\n",
    "# Select features with importance >= threshold\n",
    "selected_features = []\n",
    "for index, importance in enumerate(extra_trees.feature_importances_):\n",
    "    if importance >= threshold:\n",
    "        selected_features.append(X.columns[index])\n",
    "\n",
    "# Filter X based on selected features\n",
    "X = X[selected_features]\n",
    "\n",
    "# Now you can use X_selected for further processing\n",
    "print(\"Selected Features:\", selected_features)\n",
    "print(\"Shape of X_selected:\", X.shape)"
   ]
  },
  {
   "cell_type": "code",
   "execution_count": 14,
   "id": "04c1c138",
   "metadata": {},
   "outputs": [],
   "source": [
    "from sklearn.preprocessing import StandardScaler\n",
    "sScaler = StandardScaler()\n",
    "rescaleX = sScaler.fit_transform(X)\n",
    "df_rescaled = pd.DataFrame(data=rescaleX)"
   ]
  },
  {
   "cell_type": "code",
   "execution_count": null,
   "id": "0d4016ec",
   "metadata": {},
   "outputs": [],
   "source": []
  },
  {
   "cell_type": "code",
   "execution_count": 137,
   "id": "4cb2f5e4",
   "metadata": {},
   "outputs": [],
   "source": [
    "df_rescaled.to_csv(\"D://faranResearch/M6/M6-StandardScalar.csv\")"
   ]
  },
  {
   "cell_type": "code",
   "execution_count": 16,
   "id": "7630c8a2",
   "metadata": {},
   "outputs": [],
   "source": [
    "from sklearn.model_selection import train_test_split\n",
    "X_train, X_test, y_train, y_test = train_test_split(rescaleX, Y, test_size=0.3, random_state=10)"
   ]
  },
  {
   "cell_type": "code",
   "execution_count": 20,
   "id": "1f68de18",
   "metadata": {},
   "outputs": [],
   "source": [
    "XTr=pd.DataFrame(X_train)\n",
    "XTr.to_csv(\"D://faranResearch/M6/M6-XTrXTr.csv\")"
   ]
  },
  {
   "cell_type": "code",
   "execution_count": 21,
   "id": "8e750744",
   "metadata": {},
   "outputs": [],
   "source": [
    "XTe=pd.DataFrame(X_test)\n",
    "XTe.to_csv(\"D://faranResearch/M6/M6-X_test.csv\")"
   ]
  },
  {
   "cell_type": "code",
   "execution_count": 22,
   "id": "5ec26a93",
   "metadata": {},
   "outputs": [],
   "source": [
    "yTe=pd.DataFrame(y_test)\n",
    "yTe.to_csv(\"D://faranResearch/M6/M6-y_test.csv\")"
   ]
  },
  {
   "cell_type": "code",
   "execution_count": 23,
   "id": "4a6ff751",
   "metadata": {},
   "outputs": [],
   "source": [
    "yTr=pd.DataFrame(y_train)\n",
    "yTr.to_csv(\"D://faranResearch/M6/M6-y_train.csv\")"
   ]
  },
  {
   "cell_type": "code",
   "execution_count": 100,
   "id": "b8b9e871",
   "metadata": {},
   "outputs": [],
   "source": [
    "from tensorflow.keras.utils import to_categorical\n",
    "y_train = to_categorical(y_train)"
   ]
  },
  {
   "cell_type": "code",
   "execution_count": 17,
   "id": "ca86a390",
   "metadata": {},
   "outputs": [
    {
     "data": {
      "text/plain": [
       "67107    0\n",
       "74863    0\n",
       "864      2\n",
       "57060    2\n",
       "48145    2\n",
       "        ..\n",
       "53944    1\n",
       "30984    0\n",
       "6188     1\n",
       "80061    0\n",
       "28005    0\n",
       "Name: attack_cat, Length: 56000, dtype: int8"
      ]
     },
     "execution_count": 17,
     "metadata": {},
     "output_type": "execute_result"
    }
   ],
   "source": [
    "y_train"
   ]
  },
  {
   "cell_type": "code",
   "execution_count": 102,
   "id": "abc32f18",
   "metadata": {},
   "outputs": [
    {
     "data": {
      "text/plain": [
       "37237    6\n",
       "75043    6\n",
       "37673    6\n",
       "73745    6\n",
       "49734    4\n",
       "        ..\n",
       "55713    4\n",
       "35076    6\n",
       "71855    6\n",
       "18416    5\n",
       "50839    3\n",
       "Name: attack_cat, Length: 24000, dtype: int8"
      ]
     },
     "execution_count": 102,
     "metadata": {},
     "output_type": "execute_result"
    }
   ],
   "source": [
    "y_test"
   ]
  },
  {
   "cell_type": "code",
   "execution_count": 45,
   "id": "90d9fcf2",
   "metadata": {},
   "outputs": [],
   "source": [
    "from imblearn.over_sampling import SMOTE\n",
    "smote= SMOTE()"
   ]
  },
  {
   "cell_type": "code",
   "execution_count": 46,
   "id": "c8e1305e",
   "metadata": {},
   "outputs": [],
   "source": [
    "X_train_smote,y_train_smote=smote.fit_resample(X_train.astype('float'),y_train )"
   ]
  },
  {
   "cell_type": "code",
   "execution_count": 47,
   "id": "dc577864",
   "metadata": {},
   "outputs": [],
   "source": [
    "from collections import Counter"
   ]
  },
  {
   "cell_type": "code",
   "execution_count": 48,
   "id": "0ba0c5a3",
   "metadata": {},
   "outputs": [
    {
     "name": "stdout",
     "output_type": "stream",
     "text": [
      "before smote: Counter({6: 25066, 5: 12692, 3: 7716, 4: 4135, 2: 2800, 7: 2373, 0: 494, 1: 404, 8: 273, 9: 47})\n",
      "before smote: Counter({3: 25066, 4: 25066, 6: 25066, 5: 25066, 8: 25066, 2: 25066, 7: 25066, 1: 25066, 0: 25066, 9: 25066})\n"
     ]
    }
   ],
   "source": [
    "print(\"before smote:\" , Counter(y_train))\n",
    "print(\"before smote:\" , Counter(y_train_smote))"
   ]
  },
  {
   "cell_type": "code",
   "execution_count": null,
   "id": "46036143",
   "metadata": {},
   "outputs": [],
   "source": [
    "with 15 feature"
   ]
  },
  {
   "cell_type": "code",
   "execution_count": 90,
   "id": "33d5e102",
   "metadata": {},
   "outputs": [
    {
     "name": "stdout",
     "output_type": "stream",
     "text": [
      "Collecting mlxtendNote: you may need to restart the kernel to use updated packages.\n",
      "\n",
      "  Downloading mlxtend-0.20.0-py2.py3-none-any.whl (1.3 MB)\n",
      "Collecting matplotlib>=3.0.0\n",
      "  Downloading matplotlib-3.3.4-cp36-cp36m-win_amd64.whl (8.5 MB)\n",
      "Requirement already satisfied: numpy>=1.16.2 in c:\\users\\summaya\\anaconda3\\envs\\mytf\\lib\\site-packages (from mlxtend) (1.19.5)\n",
      "Requirement already satisfied: scipy>=1.2.1 in c:\\users\\summaya\\anaconda3\\envs\\mytf\\lib\\site-packages (from mlxtend) (1.5.4)\n",
      "Requirement already satisfied: pandas>=0.24.2 in c:\\users\\summaya\\anaconda3\\envs\\mytf\\lib\\site-packages (from mlxtend) (1.1.5)\n",
      "Collecting mlxtend\n",
      "  Downloading mlxtend-0.19.0-py2.py3-none-any.whl (1.3 MB)\n",
      "Requirement already satisfied: scikit-learn>=0.20.3 in c:\\users\\summaya\\anaconda3\\envs\\mytf\\lib\\site-packages (from mlxtend) (0.24.2)\n",
      "Requirement already satisfied: setuptools in c:\\users\\summaya\\anaconda3\\envs\\mytf\\lib\\site-packages (from mlxtend) (58.0.4)\n",
      "Requirement already satisfied: joblib>=0.13.2 in c:\\users\\summaya\\anaconda3\\envs\\mytf\\lib\\site-packages (from mlxtend) (1.1.0)\n",
      "Collecting pillow>=6.2.0\n",
      "  Downloading Pillow-8.4.0-cp36-cp36m-win_amd64.whl (3.2 MB)\n",
      "Collecting cycler>=0.10\n",
      "  Downloading cycler-0.11.0-py3-none-any.whl (6.4 kB)\n",
      "Requirement already satisfied: python-dateutil>=2.1 in c:\\users\\summaya\\anaconda3\\envs\\mytf\\lib\\site-packages (from matplotlib>=3.0.0->mlxtend) (2.8.2)\n",
      "Collecting kiwisolver>=1.0.1\n",
      "  Downloading kiwisolver-1.3.1-cp36-cp36m-win_amd64.whl (51 kB)\n",
      "Requirement already satisfied: pyparsing!=2.0.4,!=2.1.2,!=2.1.6,>=2.0.3 in c:\\users\\summaya\\anaconda3\\envs\\mytf\\lib\\site-packages (from matplotlib>=3.0.0->mlxtend) (3.0.7)\n",
      "Requirement already satisfied: pytz>=2017.2 in c:\\users\\summaya\\anaconda3\\envs\\mytf\\lib\\site-packages (from pandas>=0.24.2->mlxtend) (2022.1)\n",
      "Requirement already satisfied: six>=1.5 in c:\\users\\summaya\\anaconda3\\envs\\mytf\\lib\\site-packages (from python-dateutil>=2.1->matplotlib>=3.0.0->mlxtend) (1.15.0)\n",
      "Requirement already satisfied: threadpoolctl>=2.0.0 in c:\\users\\summaya\\anaconda3\\envs\\mytf\\lib\\site-packages (from scikit-learn>=0.20.3->mlxtend) (3.1.0)\n",
      "Installing collected packages: pillow, kiwisolver, cycler, matplotlib, mlxtend\n",
      "Successfully installed cycler-0.11.0 kiwisolver-1.3.1 matplotlib-3.3.4 mlxtend-0.19.0 pillow-8.4.0\n"
     ]
    }
   ],
   "source": [
    "pip install mlxtend"
   ]
  },
  {
   "cell_type": "code",
   "execution_count": 16,
   "id": "ad81e973",
   "metadata": {},
   "outputs": [
    {
     "name": "stdout",
     "output_type": "stream",
     "text": [
      "Accuracy: 0.9520416666666667\n",
      "              precision    recall  f1-score   support\n",
      "\n",
      "           0       1.00      1.00      1.00     10682\n",
      "           1       0.94      0.95      0.95      9277\n",
      "           2       0.91      0.91      0.91      2857\n",
      "           3       0.70      0.64      0.67      1184\n",
      "\n",
      "    accuracy                           0.95     24000\n",
      "   macro avg       0.89      0.88      0.88     24000\n",
      "weighted avg       0.95      0.95      0.95     24000\n",
      "\n"
     ]
    }
   ],
   "source": [
    "# Random Forest model with smote\n",
    "model = RandomForestClassifier(oob_score=True)\n",
    "# Fit on training data\n",
    "modelhistory=model.fit(X_train, y_train)\n",
    "rf_predictions = model.predict(X_test)\n",
    "\n",
    "#testing set accuracy\n",
    "print(\"Accuracy:\",metrics.accuracy_score(y_test, rf_predictions))\n",
    "print(classification_report(y_test, rf_predictions))"
   ]
  },
  {
   "cell_type": "code",
   "execution_count": 18,
   "id": "e0197633",
   "metadata": {},
   "outputs": [
    {
     "name": "stdout",
     "output_type": "stream",
     "text": [
      "Accuracy: 0.954\n",
      "              precision    recall  f1-score   support\n",
      "\n",
      "           0       1.00      1.00      1.00     10834\n",
      "           1       0.94      0.95      0.95      9179\n",
      "           2       0.91      0.90      0.91      2784\n",
      "           3       0.72      0.67      0.70      1203\n",
      "\n",
      "    accuracy                           0.95     24000\n",
      "   macro avg       0.89      0.88      0.89     24000\n",
      "weighted avg       0.95      0.95      0.95     24000\n",
      "\n"
     ]
    }
   ],
   "source": [
    "# random forest model without smote\n",
    "model = RandomForestClassifier(oob_score=True)\n",
    "# Fit on training data\n",
    "modelhistory=model.fit(X_train, y_train)\n",
    "rf_predictions = model.predict(X_test)\n",
    "\n",
    "#testing set accuracy\n",
    "print(\"Accuracy:\",metrics.accuracy_score(y_test, rf_predictions))\n",
    "print(classification_report(y_test, rf_predictions))"
   ]
  },
  {
   "cell_type": "code",
   "execution_count": 19,
   "id": "2da6d4f4",
   "metadata": {},
   "outputs": [
    {
     "data": {
      "image/png": "[encoded data removed]",
      "text/plain": [
       "<Figure size 720x576 with 2 Axes>"
      ]
     },
     "metadata": {
      "needs_background": "light"
     },
     "output_type": "display_data"
    }
   ],
   "source": [
    "import numpy as np\n",
    "import tensorflow as tf\n",
    "from sklearn.metrics import confusion_matrix\n",
    "import seaborn as sns\n",
    "import matplotlib.pyplot as plt\n",
    "classes = ['0', '1' , '2', '3']\n",
    "from sklearn.metrics import confusion_matrix\n",
    "cm = confusion_matrix(y_test,rf_predictions)\n",
    "\n",
    "\n",
    "\n",
    "# Plot the confusion matrix as a heatmap\n",
    "plt.figure(figsize=(10, 8))\n",
    "sns.heatmap(cm, annot=True, cmap='Blues', fmt='d', xticklabels=classes, yticklabels=classes)\n",
    "plt.xlabel('Predicted Labels')\n",
    "plt.ylabel('True Labels')\n",
    "plt.title('Confusion Matrix')\n",
    "plt.show()"
   ]
  },
  {
   "cell_type": "code",
   "execution_count": null,
   "id": "79d40d5a",
   "metadata": {},
   "outputs": [],
   "source": []
  }
 ],
 "metadata": {
  "kernelspec": {
   "display_name": "Python 3",
   "language": "python",
   "name": "python3"
  },
  "language_info": {
   "codemirror_mode": {
    "name": "ipython",
    "version": 3
   },
   "file_extension": ".py",
   "mimetype": "text/x-python",
   "name": "python",
   "nbconvert_exporter": "python",
   "pygments_lexer": "ipython3",
   "version": "3.6.13"
  }
 },
 "nbformat": 4,
 "nbformat_minor": 5
}
