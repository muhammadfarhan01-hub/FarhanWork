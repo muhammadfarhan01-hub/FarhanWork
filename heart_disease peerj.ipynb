{
  "cells": [
    {
      "cell_type": "code",
      "execution_count": null,
      "id": "025da296",
      "metadata": {
        "id": "025da296"
      },
      "outputs": [],
      "source": [
        "import pandas as pd\n",
        "import numpy as np\n",
        "from sklearn.model_selection import train_test_split\n",
        "from sklearn.ensemble import RandomForestClassifier, GradientBoostingClassifier\n",
        "from sklearn.naive_bayes import GaussianNB\n",
        "from sklearn.neighbors import KNeighborsClassifier\n",
        "from sklearn.linear_model import LogisticRegression\n",
        "from sklearn.svm import SVC\n",
        "from sklearn.preprocessing import StandardScaler\n",
        "from sklearn.metrics import classification_report, recall_score, roc_curve, roc_auc_score\n",
        "from sklearn.metrics import confusion_matrix, accuracy_score, precision_score, f1_score\n",
        "import matplotlib.pyplot as plt"
      ]
    },
    {
      "cell_type": "code",
      "execution_count": null,
      "id": "FNzJYWv_zeFN",
      "metadata": {
        "id": "FNzJYWv_zeFN"
      },
      "outputs": [],
      "source": [
        "import tensorflow as tf\n",
        "print(tf. __version__)"
      ]
    },
    {
      "cell_type": "code",
      "execution_count": null,
      "id": "VVm4k3oRzgL3",
      "metadata": {
        "id": "VVm4k3oRzgL3"
      },
      "outputs": [],
      "source": [
        "from google.colab import drive\n",
        "drive.mount('/content/drive')"
      ]
    },
    {
      "cell_type": "code",
      "execution_count": null,
      "id": "1d3087b0",
      "metadata": {
        "id": "1d3087b0"
      },
      "outputs": [],
      "source": [
        "df = pd.read_csv('/content/drive/MyDrive/heart disease.csv')\n",
        "df.head()"
      ]
    },
    {
      "cell_type": "code",
      "execution_count": null,
      "id": "8446ce2a",
      "metadata": {
        "id": "8446ce2a"
      },
      "outputs": [],
      "source": [
        "df"
      ]
    },
    {
      "cell_type": "code",
      "execution_count": null,
      "id": "0d9cb3e4",
      "metadata": {
        "id": "0d9cb3e4"
      },
      "outputs": [],
      "source": [
        "X, y = df.drop('target', axis=1), df['target']\n",
        "\n",
        "X_train, X_test, y_train, y_test = train_test_split(\n",
        "    X, y, test_size=0.3, random_state=42, stratify=y\n",
        ")"
      ]
    },
    {
      "cell_type": "code",
      "execution_count": null,
      "id": "58967137",
      "metadata": {
        "id": "58967137"
      },
      "outputs": [],
      "source": [
        "scaler = StandardScaler()\n",
        "X_train_scaled = scaler.fit_transform(X_train)\n",
        "X_test_scaled = scaler.transform(X_test)"
      ]
    },
    {
      "cell_type": "code",
      "execution_count": null,
      "id": "9f89a579",
      "metadata": {
        "id": "9f89a579"
      },
      "outputs": [],
      "source": [
        "forest = RandomForestClassifier()\n",
        "forest.fit(X_train_scaled, y_train)"
      ]
    },
    {
      "cell_type": "code",
      "execution_count": null,
      "id": "c64aab27",
      "metadata": {
        "id": "c64aab27"
      },
      "outputs": [],
      "source": [
        "gradient_boosting = GradientBoostingClassifier()\n",
        "gradient_boosting.fit(X_train_scaled, y_train)"
      ]
    },
    {
      "cell_type": "code",
      "execution_count": null,
      "id": "2578d2ed",
      "metadata": {
        "id": "2578d2ed"
      },
      "outputs": [],
      "source": [
        "knn = KNeighborsClassifier()\n",
        "knn.fit(X_train_scaled, y_train)"
      ]
    },
    {
      "cell_type": "code",
      "execution_count": null,
      "id": "68d65752",
      "metadata": {
        "id": "68d65752"
      },
      "outputs": [],
      "source": [
        "logistic_regression = LogisticRegression()\n",
        "logistic_regression.fit(X_train_scaled, y_train)"
      ]
    },
    {
      "cell_type": "code",
      "execution_count": null,
      "id": "cf2e514a",
      "metadata": {
        "id": "cf2e514a"
      },
      "outputs": [],
      "source": [
        "svc = SVC()\n",
        "svc.fit(X_train_scaled, y_train)"
      ]
    },
    {
      "cell_type": "code",
      "execution_count": null,
      "id": "1b0968ac",
      "metadata": {
        "id": "1b0968ac"
      },
      "outputs": [],
      "source": [
        "from sklearn.tree import DecisionTreeClassifier\n",
        "dt = DecisionTreeClassifier(random_state=42)\n",
        "dt.fit(X_train_scaled, y_train)"
      ]
    },
    {
      "cell_type": "code",
      "execution_count": null,
      "id": "abf3b9fb",
      "metadata": {
        "id": "abf3b9fb"
      },
      "outputs": [],
      "source": [
        "from sklearn.ensemble import AdaBoostClassifier\n",
        "\n",
        "adb = AdaBoostClassifier()\n",
        "adb.fit(X_train_scaled, y_train)"
      ]
    },
    {
      "cell_type": "code",
      "execution_count": null,
      "id": "qWpWbNoNdJW4",
      "metadata": {
        "id": "qWpWbNoNdJW4"
      },
      "outputs": [],
      "source": [
        "from xgboost import XGBClassifier\n",
        "\n",
        "xgb = XGBClassifier()\n",
        "xgb.fit(X_train_scaled, y_train)"
      ]
    },
    {
      "cell_type": "code",
      "execution_count": null,
      "id": "9b500411",
      "metadata": {
        "id": "9b500411"
      },
      "outputs": [],
      "source": [
        "models = {\n",
        "    \"XGBClassifier\": xgb,\n",
        "    \"Gradient Boosting\": gradient_boosting,\n",
        "    \"KNN\": knn,\n",
        "    \"Logistic Regression\": logistic_regression,\n",
        "    \"SVC\": svc\n",
        "}\n",
        "\n",
        "for name, model in models.items():\n",
        "    y_pred = model.predict(X_test_scaled if name in [\"XGBClassifier\", \"Gradient Boosting\",\"KNN\", \"Logistic Regression\", \"SVC\"] else X_test)\n",
        "    print(f\"{name} Classification Report:\")\n",
        "    print(classification_report(y_test, y_pred))\n",
        "    print(\"-\" * 55)"
      ]
    },
    {
      "cell_type": "code",
      "execution_count": null,
      "id": "d4848863",
      "metadata": {
        "id": "d4848863"
      },
      "outputs": [],
      "source": [
        "from sklearn.metrics import confusion_matrix, classification_report\n",
        "import matplotlib.pyplot as plt\n",
        "import seaborn as sns\n",
        "\n",
        "models = {\n",
        "    \"XGBClassifier\": xgb,\n",
        "    \"Gradient Boosting\": gradient_boosting,\n",
        "    \"KNN\": knn,\n",
        "    \"Logistic Regression\": logistic_regression,\n",
        "    \"SVC\": svc\n",
        "}\n",
        "\n",
        "# Loop through each model, predict, and display the confusion matrix\n",
        "for name, model in models.items():\n",
        "    y_pred = model.predict(X_test_scaled if name in [\"XGBClassifier\", \"Gradient Boosting\", \"KNN\", \"Logistic Regression\", \"SVC\"]\n",
        "                           else X_test)\n",
        "    print(f\"{name} Confusion Matrix:\")\n",
        "    cm = confusion_matrix(y_test, y_pred)\n",
        "    print(cm)\n",
        "\n",
        "    # Plot the confusion matrix\n",
        "    plt.figure(figsize=(6, 5))\n",
        "    sns.heatmap(cm, annot=True, fmt='d', cmap='Blues', xticklabels=['Normal', 'Attack'], yticklabels=['Normal', 'Attack'])\n",
        "    plt.title(f\"{name} Confusion Matrix\")\n",
        "    plt.xlabel(\"Predicted\")\n",
        "    plt.ylabel(\"Actual\")\n",
        "    plt.show()"
      ]
    },
    {
      "cell_type": "code",
      "execution_count": null,
      "id": "0834dbf4",
      "metadata": {
        "id": "0834dbf4"
      },
      "outputs": [],
      "source": [
        "plt.figure(figsize=(10, 6))\n",
        "\n",
        "for name, model in models.items():\n",
        "    if hasattr(model, \"predict_proba\"):\n",
        "        y_pred_prob = model.predict_proba(X_test_scaled if name in [\"XGBClassifier\", \"Gradient Boosting\", \"KNN\", \"Logistic Regression\", \"SVC\"] else X_test)[:, 1]\n",
        "    else:\n",
        "        y_pred_prob = model.decision_function(X_test_scaled if name in [\"XGBClassifier\", \"Gradient Boosting\",\"KNN\", \"Logistic Regression\", \"SVC\"] else X_test)\n",
        "    fpr, tpr, _ = roc_curve(y_test, y_pred_prob)\n",
        "    plt.plot(fpr, tpr, label=f\"{name} (AUC: {roc_auc_score(y_test, y_pred_prob):.3f})\")\n",
        "\n",
        "plt.xlabel(\"False Positive Rate\")\n",
        "plt.ylabel(\"True Positive Rate\")\n",
        "plt.legend()\n",
        "plt.title(\"ROC Curve Comparison\")\n",
        "plt.show()"
      ]
    },
    {
      "cell_type": "code",
      "execution_count": null,
      "id": "6f413bf3",
      "metadata": {
        "id": "6f413bf3"
      },
      "outputs": [],
      "source": [
        "pip install shap"
      ]
    },
    {
      "cell_type": "code",
      "execution_count": null,
      "id": "911b6c3b",
      "metadata": {
        "id": "911b6c3b"
      },
      "outputs": [],
      "source": [
        "def plot_model_comparison(models, X_test, X_test_scaled, y_test):\n",
        "    metrics = {\"Accuracy\": [], \"Precision\": [], \"Recall\": [], \"F1 Score\": []}\n",
        "    model_names = []\n",
        "\n",
        "    for name, model in models.items():\n",
        "        y_pred = model.predict(X_test_scaled if name in [\"XGBClassifier\", \"Gradient Boosting\", \"KNN\", \"Logistic Regression\", \"SVC\"] else X_test)\n",
        "        metrics[\"Accuracy\"].append(accuracy_score(y_test, y_pred))\n",
        "        metrics[\"Precision\"].append(precision_score(y_test, y_pred))\n",
        "        metrics[\"Recall\"].append(recall_score(y_test, y_pred))\n",
        "        metrics[\"F1 Score\"].append(f1_score(y_test, y_pred))\n",
        "        model_names.append(name)\n",
        "\n",
        "    metrics_df = pd.DataFrame(metrics, index=model_names)\n",
        "    metrics_df.plot(kind='bar', figsize=(10, 6))\n",
        "    plt.title(\"Model Performance Comparison\")\n",
        "    plt.ylabel(\"Score\")\n",
        "    plt.xlabel(\"Models\")\n",
        "    plt.legend(loc=\"lower right\")\n",
        "    plt.show()\n",
        "\n",
        "plot_model_comparison(models, X_test, X_test_scaled, y_test)"
      ]
    },
    {
      "cell_type": "code",
      "execution_count": null,
      "id": "EwCOiYm8MM6c",
      "metadata": {
        "colab": {
          "background_save": true
        },
        "id": "EwCOiYm8MM6c"
      },
      "outputs": [],
      "source": [
        "import shap\n",
        "import matplotlib.pyplot as plt\n",
        "\n",
        "# Loop through each model and calculate SHAP values\n",
        "for name, model in models.items():\n",
        "    try:\n",
        "        # Determine the appropriate SHAP explainer\n",
        "        if name in [\"XGBClassifier\", \"Gradient Boosting\"]:  # Tree-based models\n",
        "            explainer = shap.TreeExplainer(model)\n",
        "            data_to_use = X_test_scaled\n",
        "        else:  # Non-tree-based models, including KNN\n",
        "            explainer = shap.KernelExplainer(model.predict, X_test_scaled)\n",
        "            data_to_use = X_test_scaled\n",
        "\n",
        "        # Calculate SHAP values\n",
        "        shap_values = explainer.shap_values(data_to_use)\n",
        "\n",
        "        # Plot SHAP summary plot for the model\n",
        "        shap.summary_plot(shap_values, data_to_use)\n",
        "        plt.title(f\"{name} SHAP Summary Plot\")\n",
        "\n",
        "    except Exception as e:\n",
        "        print(f\"An error occurred while generating SHAP values for {name}: {e}\")"
      ]
    }
  ],
  "metadata": {
    "accelerator": "GPU",
    "colab": {
      "gpuType": "T4",
      "provenance": []
    },
    "kernelspec": {
      "display_name": "Python 3",
      "name": "python3"
    },
    "language_info": {
      "codemirror_mode": {
        "name": "ipython",
        "version": 3
      },
      "file_extension": ".py",
      "mimetype": "text/x-python",
      "name": "python",
      "nbconvert_exporter": "python",
      "pygments_lexer": "ipython3",
      "version": "3.10.4"
    }
  },
  "nbformat": 4,
  "nbformat_minor": 5
}